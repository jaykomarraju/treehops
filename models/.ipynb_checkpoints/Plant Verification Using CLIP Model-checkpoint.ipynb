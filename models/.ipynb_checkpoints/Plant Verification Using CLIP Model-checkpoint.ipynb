{
 "cells": [
  {
   "cell_type": "markdown",
   "id": "731ad94b",
   "metadata": {},
   "source": [
    "# Plant Verification Model\n",
    "\n",
    "### Overview:\n",
    "\n",
    "This Jupyter notebook is specifically designed to demonstrate the application of OpenAI's CLIP (Contrastive Language–Image Pretraining) model in verifying whether a given image contains a plant. Through a series of cells, we utilize the CLIP model's ability to assess the correlation between images and text descriptions, focusing on distinguishing images of plants from those of other subjects.\n",
    "\n",
    "### Environment Setup:\n",
    "\n",
    "- The notebook requires Python 3.x.\n",
    "- Necessary libraries: PIL (Python Imaging Library), requests, and transformers.\n",
    "- Internet connection is required for model downloading and image retrieval.\n",
    "\n",
    "### Workflow:\n",
    "\n",
    "- **Model Initialization**: Load the CLIP model and its processor.\n",
    "- **Image Processing**: Retrieve and process two distinct images - one of a plant and another of a non-plant subject (dog).\n",
    "- **Input Preparation**: Pair each image with two textual descriptions, one accurate and one inaccurate.\n",
    "- **Model Prediction**: Use the CLIP model to evaluate the similarity between the images and each of the text descriptions.\n",
    "- **Result Analysis**: Analyze the model's predictions to determine its accuracy in identifying the subject of the images."
   ]
  },
  {
   "cell_type": "code",
   "execution_count": 5,
   "id": "ade1d43b",
   "metadata": {},
   "outputs": [],
   "source": [
    "from PIL import Image\n",
    "import requests\n",
    "\n",
    "from transformers import CLIPProcessor, CLIPModel\n",
    "\n",
    "model = CLIPModel.from_pretrained(\"openai/clip-vit-large-patch14\")\n",
    "processor = CLIPProcessor.from_pretrained(\"openai/clip-vit-large-patch14\")\n"
   ]
  },
  {
   "cell_type": "code",
   "execution_count": 21,
   "id": "f64665d7",
   "metadata": {},
   "outputs": [],
   "source": [
    "url = \"https://hips.hearstapps.com/hmg-prod/images/indoor-plants-1643136651.jpg\"\n",
    "image = Image.open(requests.get(url, stream=True).raw)\n",
    "\n",
    "inputs = processor(text=[\"the subject of the photo is a plant\", \"the subject of the photo is not a plant\"], images=image, return_tensors=\"pt\", padding=True)\n",
    "\n",
    "outputs = model(**inputs)\n",
    "logits_per_image = outputs.logits_per_image # this is the image-text similarity score\n",
    "probs = logits_per_image.softmax(dim=1) "
   ]
  },
  {
   "cell_type": "code",
   "execution_count": 22,
   "id": "718d32a4",
   "metadata": {},
   "outputs": [
    {
     "data": {
      "text/plain": [
       "tensor(True)"
      ]
     },
     "execution_count": 22,
     "metadata": {},
     "output_type": "execute_result"
    }
   ],
   "source": [
    "probs[0][0] > probs[0][1]"
   ]
  },
  {
   "cell_type": "code",
   "execution_count": 23,
   "id": "f972c109",
   "metadata": {},
   "outputs": [],
   "source": [
    "url = \"https://hips.hearstapps.com/hmg-prod/images/dog-puppy-on-garden-royalty-free-image-1586966191.jpg\"\n",
    "image = Image.open(requests.get(url, stream=True).raw)\n",
    "\n",
    "inputs = processor(text=[\"the subject of the photo is a plant\", \"the subject of the photo is not a plant\"], images=image, return_tensors=\"pt\", padding=True)\n",
    "\n",
    "outputs = model(**inputs)\n",
    "logits_per_image = outputs.logits_per_image # this is the image-text similarity score\n",
    "probs = logits_per_image.softmax(dim=1) "
   ]
  },
  {
   "cell_type": "code",
   "execution_count": 24,
   "id": "eacd062b",
   "metadata": {},
   "outputs": [
    {
     "data": {
      "text/plain": [
       "tensor(False)"
      ]
     },
     "execution_count": 24,
     "metadata": {},
     "output_type": "execute_result"
    }
   ],
   "source": [
    "probs[0][0] > probs[0][1]"
   ]
  },
  {
   "cell_type": "code",
   "execution_count": null,
   "id": "50397231",
   "metadata": {},
   "outputs": [],
   "source": []
  },
  {
   "cell_type": "code",
   "execution_count": null,
   "id": "11d07497",
   "metadata": {},
   "outputs": [],
   "source": []
  }
 ],
 "metadata": {
  "kernelspec": {
   "display_name": "Python 3 (ipykernel)",
   "language": "python",
   "name": "python3"
  },
  "language_info": {
   "codemirror_mode": {
    "name": "ipython",
    "version": 3
   },
   "file_extension": ".py",
   "mimetype": "text/x-python",
   "name": "python",
   "nbconvert_exporter": "python",
   "pygments_lexer": "ipython3",
   "version": "3.9.7"
  }
 },
 "nbformat": 4,
 "nbformat_minor": 5
}
