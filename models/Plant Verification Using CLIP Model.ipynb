{
 "cells": [
  {
   "cell_type": "markdown",
   "id": "892e88e5",
   "metadata": {},
   "source": [
    "# Plant Verification Using CLIP Model\n",
    "\n",
    "### Overview:\n",
    "\n",
    "This Jupyter notebook is specifically designed to demonstrate the application of OpenAI's CLIP (Contrastive Language–Image Pretraining) model in verifying whether a given image contains a plant. Through a series of cells, we utilize the CLIP model's ability to assess the correlation between images and text descriptions, focusing on distinguishing images of plants from those of other subjects.\n",
    "\n",
    "### Environment Setup:\n",
    "\n",
    "- The notebook requires Python 3.x.\n",
    "- Necessary libraries: PIL (Python Imaging Library), requests, and transformers.\n",
    "- Internet connection is required for model downloading and image retrieval.\n",
    "\n",
    "### Workflow:\n",
    "\n",
    "- **Model Initialization**: Load the CLIP model and its processor.\n",
    "- **Image Processing**: Retrieve and process two distinct images - one of a plant and another of a non-plant subject (dog).\n",
    "- **Input Preparation**: Pair each image with two textual descriptions, one accurate and one inaccurate.\n",
    "- **Model Prediction**: Use the CLIP model to evaluate the similarity between the images and each of the text descriptions.\n",
    "- **Result Analysis**: Analyze the model's predictions to determine its accuracy in identifying the subject of the images."
   ]
  },
  {
   "cell_type": "code",
   "execution_count": 1,
   "id": "ade1d43b",
   "metadata": {},
   "outputs": [
    {
     "name": "stderr",
     "output_type": "stream",
     "text": [
      "2023-12-27 15:36:46.672636: I tensorflow/core/platform/cpu_feature_guard.cc:182] This TensorFlow binary is optimized to use available CPU instructions in performance-critical operations.\n",
      "To enable the following instructions: AVX2 FMA, in other operations, rebuild TensorFlow with the appropriate compiler flags.\n"
     ]
    }
   ],
   "source": [
    "from PIL import Image\n",
    "import requests\n",
    "\n",
    "from transformers import CLIPProcessor, CLIPModel\n",
    "\n",
    "model = CLIPModel.from_pretrained(\"openai/clip-vit-large-patch14\")\n",
    "processor = CLIPProcessor.from_pretrained(\"openai/clip-vit-large-patch14\")\n"
   ]
  },
  {
   "cell_type": "code",
   "execution_count": 16,
   "id": "f64665d7",
   "metadata": {},
   "outputs": [],
   "source": [
    "url = \"https://firebasestorage.googleapis.com/v0/b/tree-hops.appspot.com/o/plants%2FV3ZBN1N68mSLhg2mw9fQVUiiQum2_1703375486488_indoor-plants-1643136651.jpeg?alt=media&token=940e10eb-5f73-4b3a-a878-977f17c41c1c\"\n",
    "image = Image.open(requests.get(url, stream=True).raw)\n",
    "\n",
    "inputs = processor(text=[\"This photo of a plant\", \"This not a photo of a plant\"], images=image, return_tensors=\"pt\", padding=True)\n",
    "\n",
    "outputs = model(**inputs)\n",
    "logits_per_image = outputs.logits_per_image # this is the image-text similarity score\n",
    "probs = logits_per_image.softmax(dim=1) "
   ]
  },
  {
   "cell_type": "code",
   "execution_count": 17,
   "id": "718d32a4",
   "metadata": {},
   "outputs": [
    {
     "data": {
      "text/plain": [
       "tensor(False)"
      ]
     },
     "execution_count": 17,
     "metadata": {},
     "output_type": "execute_result"
    }
   ],
   "source": [
    "probs[0][0] > probs[0][1]"
   ]
  },
  {
   "cell_type": "code",
   "execution_count": 30,
   "id": "929be681",
   "metadata": {},
   "outputs": [],
   "source": [
    "url = \"https://firebasestorage.googleapis.com/v0/b/tree-hops.appspot.com/o/plants%2FV3ZBN1N68mSLhg2mw9fQVUiiQum2_1703572721555_image.jpg?alt=media&token=cfc9ecf6-b3e0-4fa2-9b55-636091ae0aab\"\n",
    "image = Image.open(requests.get(url, stream=True).raw)\n",
    "\n",
    "inputs = processor(text=[\"This is a photo of a living plant, showing characteristics like leaves, stems, or flowers commonly found in botanical subjects.\", \"his photo does not depict a plant but may include objects, animals, landscapes, or people that are clearly distinguishable from botanical subjects.\"], images=image, return_tensors=\"pt\", padding=True)\n",
    "\n",
    "outputs = model(**inputs)\n",
    "logits_per_image = outputs.logits_per_image # this is the image-text similarity score\n",
    "probs = logits_per_image.softmax(dim=1) "
   ]
  },
  {
   "cell_type": "code",
   "execution_count": 31,
   "id": "71028888",
   "metadata": {},
   "outputs": [
    {
     "data": {
      "text/plain": [
       "tensor(False)"
      ]
     },
     "execution_count": 31,
     "metadata": {},
     "output_type": "execute_result"
    }
   ],
   "source": [
    "probs[0][0] > probs[0][1]"
   ]
  },
  {
   "cell_type": "code",
   "execution_count": 32,
   "id": "f22d1d90",
   "metadata": {},
   "outputs": [
    {
     "data": {
      "text/plain": [
       "tensor(0.0279, grad_fn=<SelectBackward0>)"
      ]
     },
     "execution_count": 32,
     "metadata": {},
     "output_type": "execute_result"
    }
   ],
   "source": [
    "probs[0][0]"
   ]
  },
  {
   "cell_type": "code",
   "execution_count": 33,
   "id": "a7f197b7",
   "metadata": {},
   "outputs": [
    {
     "data": {
      "text/plain": [
       "tensor(0.9721, grad_fn=<SelectBackward0>)"
      ]
     },
     "execution_count": 33,
     "metadata": {},
     "output_type": "execute_result"
    }
   ],
   "source": [
    "probs[0][1]"
   ]
  },
  {
   "cell_type": "code",
   "execution_count": 52,
   "id": "a82b37fb",
   "metadata": {},
   "outputs": [],
   "source": [
    "url=\"https://firebasestorage.googleapis.com/v0/b/tree-hops.appspot.com/o/plants%2FVSxKaW0cWhYMIZHzYNBFwAVUYz52_1703389831411_image.jpg?alt=media&token=013f3f81-0019-4aaa-b6b9-2c3e1f974c12\""
   ]
  },
  {
   "cell_type": "code",
   "execution_count": 53,
   "id": "9f418df3",
   "metadata": {},
   "outputs": [],
   "source": [
    "image = Image.open(requests.get(url, stream=True).raw)\n",
    "\n",
    "inputs = processor(text=[\"This is a photo of a living plant, showing characteristics like leaves, stems, or flowers commonly found in botanical subjects.\", \"his photo does not depict a plant but may include objects, animals, landscapes, or people that are clearly distinguishable from botanical subjects.\"], images=image, return_tensors=\"pt\", padding=True)\n",
    "\n",
    "outputs = model(**inputs)\n",
    "logits_per_image = outputs.logits_per_image # this is the image-text similarity score\n",
    "probs = logits_per_image.softmax(dim=1) "
   ]
  },
  {
   "cell_type": "code",
   "execution_count": 54,
   "id": "35cf0d64",
   "metadata": {},
   "outputs": [
    {
     "data": {
      "text/plain": [
       "tensor(True)"
      ]
     },
     "execution_count": 54,
     "metadata": {},
     "output_type": "execute_result"
    }
   ],
   "source": [
    "probs[0][0] > probs[0][1]"
   ]
  },
  {
   "cell_type": "code",
   "execution_count": null,
   "id": "3c7ed2df",
   "metadata": {},
   "outputs": [],
   "source": []
  }
 ],
 "metadata": {
  "kernelspec": {
   "display_name": "Python 3 (ipykernel)",
   "language": "python",
   "name": "python3"
  },
  "language_info": {
   "codemirror_mode": {
    "name": "ipython",
    "version": 3
   },
   "file_extension": ".py",
   "mimetype": "text/x-python",
   "name": "python",
   "nbconvert_exporter": "python",
   "pygments_lexer": "ipython3",
   "version": "3.9.7"
  }
 },
 "nbformat": 4,
 "nbformat_minor": 5
}
